{
 "cells": [
  {
   "cell_type": "markdown",
   "id": "9d811e0c",
   "metadata": {},
   "source": [
    "# 1. Basic Python"
   ]
  },
  {
   "cell_type": "markdown",
   "id": "36a49274",
   "metadata": {},
   "source": [
    "##  Basic Operators"
   ]
  },
  {
   "cell_type": "markdown",
   "id": "406778b4",
   "metadata": {},
   "source": [
    "Addition      : +\n",
    "\n",
    "\n",
    "Substraction  : -\n",
    "\n",
    "\n",
    "Multi.        : *\n",
    "\n",
    "\n",
    "Devision      : /\n",
    "\n",
    "\n",
    "\n",
    "Exponential   : **"
   ]
  },
  {
   "cell_type": "markdown",
   "id": "6bb5329b",
   "metadata": {},
   "source": [
    "## Types"
   ]
  },
  {
   "cell_type": "markdown",
   "id": "97244037",
   "metadata": {},
   "source": [
    "1. **Integers**"
   ]
  },
  {
   "cell_type": "code",
   "execution_count": 44,
   "id": "27235973",
   "metadata": {},
   "outputs": [
    {
     "data": {
      "text/plain": [
       "int"
      ]
     },
     "execution_count": 44,
     "metadata": {},
     "output_type": "execute_result"
    }
   ],
   "source": [
    "a = 4\n",
    "type(a)"
   ]
  },
  {
   "cell_type": "markdown",
   "id": "6d0d2fd5",
   "metadata": {},
   "source": [
    "2. **Floats**"
   ]
  },
  {
   "cell_type": "code",
   "execution_count": 10,
   "id": "1534d2d5",
   "metadata": {},
   "outputs": [
    {
     "data": {
      "text/plain": [
       "float"
      ]
     },
     "execution_count": 10,
     "metadata": {},
     "output_type": "execute_result"
    }
   ],
   "source": [
    "b=2.44\n",
    "type(b)"
   ]
  },
  {
   "cell_type": "markdown",
   "id": "e12150cb",
   "metadata": {},
   "source": [
    "3. **Strings**\n",
    "\n",
    "Its a sequence of characters.  Defind by ('  ') or (\"  \")."
   ]
  },
  {
   "cell_type": "code",
   "execution_count": 71,
   "id": "7e356903",
   "metadata": {},
   "outputs": [
    {
     "name": "stdout",
     "output_type": "stream",
     "text": [
      "Hello How are youI am Fine\n"
     ]
    }
   ],
   "source": [
    "String1='Hello How are you'\n",
    "String2=\"I am Fine\"\n",
    "print(String1 + String2)"
   ]
  },
  {
   "cell_type": "code",
   "execution_count": 24,
   "id": "fe18598f",
   "metadata": {},
   "outputs": [
    {
     "name": "stdout",
     "output_type": "stream",
     "text": [
      "hello  hi\n"
     ]
    }
   ],
   "source": [
    "Str1, Str2 = 'hello', 'hi'\n",
    "print(Str1 +'  '+ Str2)"
   ]
  },
  {
   "cell_type": "markdown",
   "id": "ce642742",
   "metadata": {},
   "source": [
    "4. **Complex Numbers**\n",
    "Imaginary number i is represented as j."
   ]
  },
  {
   "cell_type": "code",
   "execution_count": 37,
   "id": "5afd421d",
   "metadata": {},
   "outputs": [
    {
     "name": "stdout",
     "output_type": "stream",
     "text": [
      "2.0 3.0\n"
     ]
    }
   ],
   "source": [
    "z=2+3j\n",
    "print(z.real, \\\n",
    "      z.imag)"
   ]
  },
  {
   "cell_type": "code",
   "execution_count": null,
   "id": "ab1e41c6",
   "metadata": {},
   "outputs": [],
   "source": []
  },
  {
   "cell_type": "code",
   "execution_count": 38,
   "id": "3a82effc",
   "metadata": {},
   "outputs": [
    {
     "name": "stdout",
     "output_type": "stream",
     "text": [
      "2.0 3.0\n"
     ]
    }
   ],
   "source": [
    "z=2+3j\n",
    "print(z.real, z.imag)"
   ]
  },
  {
   "cell_type": "markdown",
   "id": "31829b77",
   "metadata": {},
   "source": [
    "5. **Lists**\n",
    "\n",
    "Its a sequence of objects, contains same type or different type"
   ]
  },
  {
   "cell_type": "code",
   "execution_count": 49,
   "id": "6b4bf454",
   "metadata": {},
   "outputs": [
    {
     "name": "stdout",
     "output_type": "stream",
     "text": [
      "[1, 2.3, 'Hello']\n"
     ]
    },
    {
     "data": {
      "text/plain": [
       "list"
      ]
     },
     "execution_count": 49,
     "metadata": {},
     "output_type": "execute_result"
    }
   ],
   "source": [
    "a=[1, 2.3, 'Hello']\n",
    "print(a)\n",
    "type(a)"
   ]
  },
  {
   "cell_type": "markdown",
   "id": "bd1c167c",
   "metadata": {},
   "source": [
    "**Indexing in Lists**\n",
    "\n",
    "[a,b,c,d g,f] has index\n",
    "\n",
    "[0,1,2,3,4,5]\n"
   ]
  },
  {
   "cell_type": "code",
   "execution_count": 43,
   "id": "3645fd9f",
   "metadata": {},
   "outputs": [
    {
     "name": "stdout",
     "output_type": "stream",
     "text": [
      "a\n",
      "['b', 3]\n"
     ]
    }
   ],
   "source": [
    "a=['a','b',3,5,6,'f','g','h','i']\n",
    "print(a[0])\n",
    "print(a[1:3])"
   ]
  },
  {
   "cell_type": "markdown",
   "id": "e58a7eb0",
   "metadata": {},
   "source": [
    "**Changing element in list**"
   ]
  },
  {
   "cell_type": "code",
   "execution_count": 47,
   "id": "7a2d5138",
   "metadata": {},
   "outputs": [
    {
     "name": "stdout",
     "output_type": "stream",
     "text": [
      "['a', 'b', 3, 5, 6, 'f', 'g', 'h', 'i']\n",
      "[4, 'b', 3, 5, 6, 'f', 'g', 'h', 'i']\n"
     ]
    }
   ],
   "source": [
    "a=['a','b',3,5,6,'f','g','h','i']\n",
    "print(a)\n",
    "a[0]=4\n",
    "print(a)"
   ]
  },
  {
   "cell_type": "markdown",
   "id": "8541862f",
   "metadata": {},
   "source": [
    "**Adding elements to list : Append, extend, insert**\n",
    "\n",
    "\n",
    "insert(index position, onject to add) : it insert object before the index position"
   ]
  },
  {
   "cell_type": "code",
   "execution_count": 59,
   "id": "565147bd",
   "metadata": {},
   "outputs": [
    {
     "name": "stdout",
     "output_type": "stream",
     "text": [
      "['a', 'b', 3, 5, 6, 'f', 'g', 'h', 'i', 8]\n",
      "['a', 'b', 3, 5, 6, 'f', 'g', 'h', 'i', 8, [3, 4]]\n",
      "['a', 'b', 3, 5, 6, 'f', 'g', 'h', 'i', 8, [3, 4], 'c', 'd']\n",
      "['c', 'hi', 'd']\n"
     ]
    }
   ],
   "source": [
    "a=['a','b',3,5,6,'f','g','h','i']\n",
    "a.append(8)\n",
    "print(a)\n",
    "\n",
    "\n",
    "\n",
    "a.append([3,4])\n",
    "print(a)\n",
    "\n",
    "\n",
    "\n",
    "b=['c','d']\n",
    "a.extend(b)\n",
    "print(a)\n",
    "\n",
    "\n",
    "b.insert(1,'hi')\n",
    "print(b)"
   ]
  },
  {
   "cell_type": "markdown",
   "id": "e1246a56",
   "metadata": {},
   "source": [
    "**Removing Elemets from list : remove, pop** \n",
    "remove(x) : removes element name x with first match\n",
    "pop(i): removes i-th element"
   ]
  },
  {
   "cell_type": "code",
   "execution_count": 64,
   "id": "5a95d445",
   "metadata": {},
   "outputs": [
    {
     "name": "stdout",
     "output_type": "stream",
     "text": [
      "['a', 'b', 3, 5, 6, 'f', 'h', 'i']\n",
      "['a', 'b', 3, 6, 'f', 'h', 'i']\n"
     ]
    }
   ],
   "source": [
    "a=['a','b',3,5,6,'f','g','h','i']\n",
    "a.remove('g')\n",
    "print(a)\n",
    "a.pop(3)\n",
    "print(a)"
   ]
  },
  {
   "cell_type": "markdown",
   "id": "cc3d451a",
   "metadata": {},
   "source": [
    "**Arranging elements in accending or decendind orders and reversing**\n"
   ]
  },
  {
   "cell_type": "code",
   "execution_count": 70,
   "id": "3fcb4a14",
   "metadata": {},
   "outputs": [
    {
     "name": "stdout",
     "output_type": "stream",
     "text": [
      "[1, 2, 3, 4, 5]\n",
      "[5, 4, 3, 2, 1]\n",
      "[5, 9, 6, 2, 1]\n"
     ]
    }
   ],
   "source": [
    "a=[1,2,3,4,5]\n",
    "a.sort()\n",
    "print(a)\n",
    "\n",
    "a.sort(reverse=True)\n",
    "print(a)\n",
    "\n",
    "a=[1,2,6,9,5]\n",
    "a.reverse()\n",
    "print(a)"
   ]
  },
  {
   "cell_type": "markdown",
   "id": "8ddef65c",
   "metadata": {},
   "source": [
    "6. **Tuples**\n",
    "\n",
    "They are also abject like list but cant be changed once created. It is created using () or without any bracket. It has same indexing as Lists. When you apply sort to tuple it becomes list as output."
   ]
  },
  {
   "cell_type": "code",
   "execution_count": 87,
   "id": "ff699c37",
   "metadata": {},
   "outputs": [
    {
     "name": "stdout",
     "output_type": "stream",
     "text": [
      "6\n",
      "('b', 3)\n",
      "<class 'tuple'>\n",
      "[1, 2, 5, 6, 9]\n"
     ]
    }
   ],
   "source": [
    "a=('a','b',3,5,6,'f','g','h','i')\n",
    "type(a)\n",
    "\n",
    "\n",
    "\n",
    "print(a[4])\n",
    "print(a[1:3])\n",
    "\n",
    "\n",
    "b=1,2,6,9,5\n",
    "print(type(b))\n",
    "print (sorted(b))\n"
   ]
  },
  {
   "cell_type": "markdown",
   "id": "5afb6913",
   "metadata": {},
   "source": [
    "**Count and Index**\n",
    "\n",
    "a.count(element)= number of times element repeated in a.\n",
    "\n",
    "a.index(element)= gives index value of first occurence"
   ]
  },
  {
   "cell_type": "code",
   "execution_count": 86,
   "id": "41381676",
   "metadata": {},
   "outputs": [
    {
     "name": "stdout",
     "output_type": "stream",
     "text": [
      "2\n",
      "2\n"
     ]
    }
   ],
   "source": [
    "a=[1,2,6,6,5]\n",
    "print(a.count(6))\n",
    "print(a.index(6))"
   ]
  },
  {
   "cell_type": "markdown",
   "id": "5a74c316",
   "metadata": {},
   "source": [
    "7. **Dictionaries**\n",
    "\n",
    "Its a obect like lists but this one is come with pair: keys-values. Its created using {}."
   ]
  },
  {
   "cell_type": "code",
   "execution_count": 93,
   "id": "2a24259f",
   "metadata": {},
   "outputs": [
    {
     "name": "stdout",
     "output_type": "stream",
     "text": [
      "Dipen 34\n",
      "dict_keys(['Name', 'country', 'Age'])\n",
      "dict_values(['Dipen', 'India', 34])\n",
      "dict_items([('Name', 'Dipen'), ('country', 'India'), ('Age', 34)])\n"
     ]
    }
   ],
   "source": [
    "d={'Name' : 'Dipen',\n",
    "  'country' : 'India',\n",
    "  'Age' : 34}\n",
    "\n",
    "type(d)\n",
    "\n",
    "print(d['Name'], d['Age'])\n",
    "\n",
    "print(d.keys())\n",
    "\n",
    "print(d.values())\n",
    "\n",
    "print(d.items())\n",
    "\n"
   ]
  },
  {
   "cell_type": "markdown",
   "id": "abfaf263",
   "metadata": {},
   "source": [
    "8. **Sets**"
   ]
  },
  {
   "cell_type": "markdown",
   "id": "ad8b34bd",
   "metadata": {},
   "source": [
    "Its an unordered collection of ofjects withous repetation. To create set we have to use function 'set([     ])'."
   ]
  },
  {
   "cell_type": "code",
   "execution_count": 98,
   "id": "fd2e74f8",
   "metadata": {},
   "outputs": [
    {
     "name": "stdout",
     "output_type": "stream",
     "text": [
      "{'b', 3, 4, 'a'}\n",
      "{1, 2, 3, 4, 23}\n",
      "{1, 2, 3, 4, 'b', 'a', 23}\n",
      "{3, 4}\n",
      "{1, 2, 23}\n"
     ]
    }
   ],
   "source": [
    "s=set(['a','b',3,4])\n",
    "a=[1,2,2,3,4,23,1,3] #list\n",
    "\n",
    "print(s)\n",
    "\n",
    "b=set(a)\n",
    "print(b)\n",
    "\n",
    "\n",
    "print(b.union(s))\n",
    "print(b.intersection(s))\n",
    "print(b.difference(s))\n",
    "\n"
   ]
  },
  {
   "cell_type": "markdown",
   "id": "47fefe88",
   "metadata": {},
   "source": [
    "# 2. Control Flow"
   ]
  },
  {
   "cell_type": "markdown",
   "id": "7dba1e45",
   "metadata": {},
   "source": [
    "**If...elif....else**. Tab space is must for print"
   ]
  },
  {
   "cell_type": "code",
   "execution_count": 152,
   "id": "787fd9be",
   "metadata": {},
   "outputs": [
    {
     "name": "stdout",
     "output_type": "stream",
     "text": [
      "1 is odd\n",
      "2 is even\n",
      "3 is multiple of 3\n",
      "4 is even\n",
      "5 is odd\n",
      "6 is even\n",
      "7 is odd\n",
      "8 is even\n",
      "9 is multiple of 3\n"
     ]
    }
   ],
   "source": [
    "for i in range(1, 10):\n",
    " if i % 2 == 0: \n",
    "     print(\"%d is even\" % i)\n",
    " elif i % 3 == 0:\n",
    "     print(\"%d is multiple of 3\" % i)\n",
    " else:\n",
    "     print(\"%d is odd\" % i)\n"
   ]
  },
  {
   "cell_type": "markdown",
   "id": "fe21cf88",
   "metadata": {},
   "source": [
    "**While**. This repeats the code untill condition do not match.\n"
   ]
  },
  {
   "cell_type": "code",
   "execution_count": 161,
   "id": "a96ffee3",
   "metadata": {},
   "outputs": [
    {
     "name": "stdout",
     "output_type": "stream",
     "text": [
      "10\n",
      "9\n",
      "8\n",
      "7\n",
      "6\n",
      "5\n",
      "4\n",
      "3\n",
      "2\n",
      "1\n",
      "0\n"
     ]
    }
   ],
   "source": [
    "countdown=10\n",
    "while countdown>=0:\n",
    "    print(countdown)\n",
    "    countdown-=1"
   ]
  },
  {
   "cell_type": "markdown",
   "id": "492c4050",
   "metadata": {},
   "source": [
    "**For.** While is used when we do not know in advance that how much time code witll be executed in future. If we know it then we use For."
   ]
  },
  {
   "cell_type": "code",
   "execution_count": 162,
   "id": "a7eabd5e",
   "metadata": {},
   "outputs": [
    {
     "name": "stdout",
     "output_type": "stream",
     "text": [
      "10\n",
      "9\n",
      "8\n",
      "7\n",
      "6\n",
      "5\n",
      "4\n",
      "3\n",
      "2\n",
      "1\n"
     ]
    }
   ],
   "source": [
    "countdown_list=[10,9,8,7,6,5,4,3,2,1]\n",
    "for x in countdown_list:\n",
    "    print(x)"
   ]
  },
  {
   "cell_type": "markdown",
   "id": "01722179",
   "metadata": {},
   "source": [
    "**try... except.** In a loop we lnow that ceriatn values will cause problem, to except this error thsi loop is used.\n"
   ]
  },
  {
   "cell_type": "code",
   "execution_count": 177,
   "id": "9211a1dd",
   "metadata": {},
   "outputs": [
    {
     "name": "stdout",
     "output_type": "stream",
     "text": [
      "The reciprocal of 3 is 0.3333333333333333\n",
      "The reciprocal of 2 is 0.5\n",
      "The reciprocal of 1 is 1.0\n",
      "cant divide by zero\n"
     ]
    }
   ],
   "source": [
    "try:\n",
    "    for x in range(3,-1,-1):\n",
    "        print('The reciprocal of {0} is {1}'.format(x, 1.0/x))\n",
    "except ZeroDivisionError:\n",
    "        print('cant divide by zero')"
   ]
  },
  {
   "cell_type": "code",
   "execution_count": null,
   "id": "d164d423",
   "metadata": {},
   "outputs": [],
   "source": []
  }
 ],
 "metadata": {
  "kernelspec": {
   "display_name": "Python 3",
   "language": "python",
   "name": "python3"
  },
  "language_info": {
   "codemirror_mode": {
    "name": "ipython",
    "version": 3
   },
   "file_extension": ".py",
   "mimetype": "text/x-python",
   "name": "python",
   "nbconvert_exporter": "python",
   "pygments_lexer": "ipython3",
   "version": "3.9.1"
  }
 },
 "nbformat": 4,
 "nbformat_minor": 5
}
