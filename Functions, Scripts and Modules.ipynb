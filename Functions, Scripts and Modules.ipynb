{
 "cells": [
  {
   "cell_type": "markdown",
   "id": "317659c7",
   "metadata": {},
   "source": [
    "**Functions syntax : def function_name(var1, var2=default_value1, ... , varn=default_valuen):'''Docstring(optional)**\n",
    "                \n",
    "If fewer variable value is given in input then it will use default value in calculation.\n",
    "                 "
   ]
  },
  {
   "cell_type": "code",
   "execution_count": 6,
   "id": "a37265f7",
   "metadata": {},
   "outputs": [
    {
     "name": "stdout",
     "output_type": "stream",
     "text": [
      "20 and 10.0\n"
     ]
    }
   ],
   "source": [
    "def rect_area(a,b=1.0):\n",
    "    '''Calculate the area of a rectangle'''\n",
    "    return a*b\n",
    "\n",
    "c=rect_area(10,2)\n",
    "d=rect_area(10)\n",
    "print('{0} and {1}'.format(c,d))"
   ]
  },
  {
   "cell_type": "code",
   "execution_count": null,
   "id": "a8dcdd1e",
   "metadata": {},
   "outputs": [],
   "source": []
  }
 ],
 "metadata": {
  "kernelspec": {
   "display_name": "Python 3",
   "language": "python",
   "name": "python3"
  },
  "language_info": {
   "codemirror_mode": {
    "name": "ipython",
    "version": 3
   },
   "file_extension": ".py",
   "mimetype": "text/x-python",
   "name": "python",
   "nbconvert_exporter": "python",
   "pygments_lexer": "ipython3",
   "version": "3.9.1"
  }
 },
 "nbformat": 4,
 "nbformat_minor": 5
}
